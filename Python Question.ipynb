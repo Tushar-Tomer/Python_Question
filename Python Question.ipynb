{
 "cells": [
  {
   "cell_type": "markdown",
   "id": "de18043f",
   "metadata": {},
   "source": [
    "# You are provided an list A of size N that contains non-negative integers. \n",
    "# Your task is to determine \n",
    "# whether the number that is formed by selecting the last digit of all the N numbers is divisible by 10\n",
    "# Input format\n",
    "# First line: A single integer N  denoting the size of array A\n",
    "# Second line: N space-separated integers.\n",
    "# Output format\n",
    "# If the number is divisible by 10, then print Yes. Otherwise, print No.\n",
    "# Sample Input\n",
    "# 85 25 65 21 84\n",
    "# Sample Output\n",
    "# No\n",
    "# Explanation\n",
    "# Last digit 85 of  is 5 .\n",
    "# Last digit of 25  is 5 .\n",
    "# Last digit of 65 is 5 .\n",
    "# Last digit of 21  is 1.\n",
    "# Last digit of 84 is 4.\n",
    "# Therefore the number formed is 55514 which is not divisible by 10 ."
   ]
  },
  {
   "cell_type": "code",
   "execution_count": 1,
   "id": "375c3763",
   "metadata": {},
   "outputs": [
    {
     "name": "stdout",
     "output_type": "stream",
     "text": [
      "No\n"
     ]
    }
   ],
   "source": [
    "a=[11,10,10,15,69]\n",
    "d=[]\n",
    "for i in a:\n",
    "    b=str(i)\n",
    "    c=b[-1]\n",
    "    d.append(c)\n",
    "x=int(''.join(d))\n",
    "if x%10==0:\n",
    "    print(\"Yes\")\n",
    "else:\n",
    "    print(\"No\")"
   ]
  }
 ],
 "metadata": {
  "kernelspec": {
   "display_name": "Python 3 (ipykernel)",
   "language": "python",
   "name": "python3"
  },
  "language_info": {
   "codemirror_mode": {
    "name": "ipython",
    "version": 3
   },
   "file_extension": ".py",
   "mimetype": "text/x-python",
   "name": "python",
   "nbconvert_exporter": "python",
   "pygments_lexer": "ipython3",
   "version": "3.9.12"
  }
 },
 "nbformat": 4,
 "nbformat_minor": 5
}
